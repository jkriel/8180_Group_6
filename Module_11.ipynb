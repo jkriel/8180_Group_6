{
 "cells": [
  {
   "cell_type": "code",
   "execution_count": 6,
   "metadata": {},
   "outputs": [],
   "source": [
    "import pandas as pd\n",
    "import numpy as np\n",
    "import matplotlib.pyplot as plt\n",
    "import statsmodels.api as sm\n",
    "import sklearn as skl\n",
    "import seaborn as sns\n",
    "\n",
    "sns.set()\n"
   ]
  },
  {
   "cell_type": "code",
   "execution_count": 5,
   "metadata": {},
   "outputs": [
    {
     "data": {
      "text/html": [
       "<div>\n",
       "<style scoped>\n",
       "    .dataframe tbody tr th:only-of-type {\n",
       "        vertical-align: middle;\n",
       "    }\n",
       "\n",
       "    .dataframe tbody tr th {\n",
       "        vertical-align: top;\n",
       "    }\n",
       "\n",
       "    .dataframe thead th {\n",
       "        text-align: right;\n",
       "    }\n",
       "</style>\n",
       "<table border=\"1\" class=\"dataframe\">\n",
       "  <thead>\n",
       "    <tr style=\"text-align: right;\">\n",
       "      <th></th>\n",
       "      <th>case</th>\n",
       "      <th>water81</th>\n",
       "      <th>water80</th>\n",
       "      <th>water79</th>\n",
       "      <th>income</th>\n",
       "      <th>educat</th>\n",
       "      <th>retire</th>\n",
       "      <th>peop81</th>\n",
       "      <th>cpeop</th>\n",
       "      <th>peop80</th>\n",
       "    </tr>\n",
       "  </thead>\n",
       "  <tbody>\n",
       "    <tr>\n",
       "      <th>0</th>\n",
       "      <td>5</td>\n",
       "      <td>2300</td>\n",
       "      <td>3500</td>\n",
       "      <td>3500.0</td>\n",
       "      <td>35</td>\n",
       "      <td>18</td>\n",
       "      <td>0</td>\n",
       "      <td>3</td>\n",
       "      <td>0</td>\n",
       "      <td>3</td>\n",
       "    </tr>\n",
       "    <tr>\n",
       "      <th>1</th>\n",
       "      <td>6</td>\n",
       "      <td>2500</td>\n",
       "      <td>4600</td>\n",
       "      <td>4100.0</td>\n",
       "      <td>60</td>\n",
       "      <td>20</td>\n",
       "      <td>0</td>\n",
       "      <td>5</td>\n",
       "      <td>0</td>\n",
       "      <td>5</td>\n",
       "    </tr>\n",
       "    <tr>\n",
       "      <th>2</th>\n",
       "      <td>7</td>\n",
       "      <td>4000</td>\n",
       "      <td>3800</td>\n",
       "      <td>5500.0</td>\n",
       "      <td>30</td>\n",
       "      <td>16</td>\n",
       "      <td>0</td>\n",
       "      <td>6</td>\n",
       "      <td>1</td>\n",
       "      <td>5</td>\n",
       "    </tr>\n",
       "    <tr>\n",
       "      <th>3</th>\n",
       "      <td>8</td>\n",
       "      <td>500</td>\n",
       "      <td>1500</td>\n",
       "      <td>1700.0</td>\n",
       "      <td>20</td>\n",
       "      <td>11</td>\n",
       "      <td>1</td>\n",
       "      <td>1</td>\n",
       "      <td>-1</td>\n",
       "      <td>2</td>\n",
       "    </tr>\n",
       "    <tr>\n",
       "      <th>4</th>\n",
       "      <td>9</td>\n",
       "      <td>4400</td>\n",
       "      <td>4300</td>\n",
       "      <td>3700.0</td>\n",
       "      <td>50</td>\n",
       "      <td>20</td>\n",
       "      <td>0</td>\n",
       "      <td>2</td>\n",
       "      <td>0</td>\n",
       "      <td>2</td>\n",
       "    </tr>\n",
       "  </tbody>\n",
       "</table>\n",
       "</div>"
      ],
      "text/plain": [
       "   case  water81  water80  water79  income  educat  retire  peop81  cpeop  \\\n",
       "0     5     2300     3500   3500.0      35      18       0       3      0   \n",
       "1     6     2500     4600   4100.0      60      20       0       5      0   \n",
       "2     7     4000     3800   5500.0      30      16       0       6      1   \n",
       "3     8      500     1500   1700.0      20      11       1       1     -1   \n",
       "4     9     4400     4300   3700.0      50      20       0       2      0   \n",
       "\n",
       "   peop80  \n",
       "0       3  \n",
       "1       5  \n",
       "2       5  \n",
       "3       2  \n",
       "4       2  "
      ]
     },
     "execution_count": 5,
     "metadata": {},
     "output_type": "execute_result"
    }
   ],
   "source": [
    "concord = pd.read_csv('Concord.csv')\n",
    "(concord.head())"
   ]
  },
  {
   "cell_type": "code",
   "execution_count": 15,
   "metadata": {
    "collapsed": true,
    "jupyter": {
     "outputs_hidden": true
    }
   },
   "outputs": [
    {
     "name": "stdout",
     "output_type": "stream",
     "text": [
      "0      2300\n",
      "1      2500\n",
      "2      4000\n",
      "3       500\n",
      "4      4400\n",
      "       ... \n",
      "491    2800\n",
      "492    3600\n",
      "493    1100\n",
      "494    2800\n",
      "495    2400\n",
      "Name: water81, Length: 496, dtype: int64 (496,)\n",
      "     water80  income  educat  retire  peop81  cpeop\n",
      "0       3500      35      18       0       3      0\n",
      "1       4600      60      20       0       5      0\n",
      "2       3800      30      16       0       6      1\n",
      "3       1500      20      11       1       1     -1\n",
      "4       4300      50      20       0       2      0\n",
      "..       ...     ...     ...     ...     ...    ...\n",
      "491     4400      20      16       0       2      0\n",
      "492     3600      23      12       0       4      0\n",
      "493     4700      45      16       0       2      0\n",
      "494     1900      25      16       0       2      0\n",
      "495     4300      53      14       0       4      0\n",
      "\n",
      "[496 rows x 6 columns]\n"
     ]
    }
   ],
   "source": [
    "y =  concord['water81']\n",
    "x =  concord.iloc[:,2:9].drop('water79', axis=1)\n",
    "\n",
    "print(y,y.shape)\n",
    "print(x)\n"
   ]
  },
  {
   "cell_type": "code",
   "execution_count": null,
   "metadata": {},
   "outputs": [],
   "source": []
  },
  {
   "cell_type": "code",
   "execution_count": null,
   "metadata": {},
   "outputs": [],
   "source": []
  },
  {
   "cell_type": "code",
   "execution_count": null,
   "metadata": {},
   "outputs": [],
   "source": []
  },
  {
   "cell_type": "code",
   "execution_count": null,
   "metadata": {},
   "outputs": [],
   "source": []
  }
 ],
 "metadata": {
  "kernelspec": {
   "display_name": "Python 3",
   "language": "python",
   "name": "python3"
  },
  "language_info": {
   "codemirror_mode": {
    "name": "ipython",
    "version": 3
   },
   "file_extension": ".py",
   "mimetype": "text/x-python",
   "name": "python",
   "nbconvert_exporter": "python",
   "pygments_lexer": "ipython3",
   "version": "3.7.4"
  }
 },
 "nbformat": 4,
 "nbformat_minor": 4
}
